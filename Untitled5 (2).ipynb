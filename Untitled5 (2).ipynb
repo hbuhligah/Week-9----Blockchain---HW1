{
 "cells": [
  {
   "cell_type": "code",
   "execution_count": 3,
   "id": "5b8c4b28-5fb8-4ffb-b7ae-da3f1dda5fa4",
   "metadata": {},
   "outputs": [
    {
     "name": "stdout",
     "output_type": "stream",
     "text": [
      "The hash is: 0000000399c6aea5ad0c709a9bc331a3ed6494702bd1d129d8c817a0257a1462\n",
      "The nonce is: 665783\n",
      "Time elapsed: 0:00:02.539055\n"
     ]
    }
   ],
   "source": [
    "import hashlib # imports library with SHA-256 hashing algo\n",
    "import datetime # imports library to track time\n",
    "t1 = datetime.datetime.now() # start time\n",
    "nonce = 1 # Starts the nonce at 1\n",
    "solution = False\n",
    "while solution == False: # loop until true\n",
    "    ourhash = hashlib.sha256(str(nonce).encode()).hexdigest() # inputs nonce into hash function\n",
    "    if ourhash[:7] == '00000000': # look for hash with 7 proceeding zeros\n",
    "        solution =True # those who find the solution will have 'proved' they put in 'work'\n",
    "    nonce +=1 # increase nonce by 1 and try again\n",
    "t2 = datetime.datetime.now() # end time\n",
    "duration = t2 - t1 # time elapsed\n",
    "print (\"The hash is:\",ourhash)\n",
    "print (\"The nonce is:\",nonce)    \n",
    "print (\"Time elapsed:\",duration)\n",
    "print (\"My computer is slow and cannot process 8th\")"
   ]
  },
  {
   "cell_type": "code",
   "execution_count": null,
   "id": "01196f42-9a15-4e7c-b6bb-5df433663875",
   "metadata": {},
   "outputs": [],
   "source": []
  }
 ],
 "metadata": {
  "kernelspec": {
   "display_name": "Python 3",
   "language": "python",
   "name": "python3"
  },
  "language_info": {
   "codemirror_mode": {
    "name": "ipython",
    "version": 3
   },
   "file_extension": ".py",
   "mimetype": "text/x-python",
   "name": "python",
   "nbconvert_exporter": "python",
   "pygments_lexer": "ipython3",
   "version": "3.8.8"
  }
 },
 "nbformat": 4,
 "nbformat_minor": 5
}
